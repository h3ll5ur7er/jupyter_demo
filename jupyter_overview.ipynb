{
 "cells": [
  {
   "cell_type": "markdown",
   "metadata": {},
   "source": [
    "# Jupyter\n",
    "\n",
    "## Best with anaconda\n",
    "It is very easy to set up a jupyter(lab) environment using anaconda python and the conda package manager:\n",
    "\n",
    "```\n",
    "conda create -n jupyterlab_cv python=3.6\n",
    "conda install -y -n jupyterlab_cv numpy\n",
    "conda install -y -n jupyterlab_cv matplotlib\n",
    "conda install -y -n jupyterlab_cv -c conda-forge jupyterlab\n",
    "conda develop -n jupyterlab_cv cv2.cp36-win_amd64.pyd\n",
    "```\n",
    "those commands create a new conda environment, install project dependencies like numpy and matplotlib, install jupyter lab and include the pre built opencv package.\n",
    "\n",
    "To activate the environment and start the jupyter lab web service use\n",
    "```\n",
    "activate jupyterlab_cv\n",
    "jupyter lab\n",
    "```\n",
    "## Kernels for many languages\n",
    "A Jupyter Kernel is a program that handles all kinds of requests:\n",
    "* Code execution\n",
    "* Code completion\n",
    "* Inspection\n",
    "\n",
    "There are kernels for Python (2/3), R, Matlab and many more: \n",
    "https://github.com/jupyter/jupyter/wiki/Jupyter-kernels\n",
    "\n",
    "\n",
    "## Export in many formats\n",
    "* AsciiDoc\n",
    "* HTML\n",
    "* LaTeX\n",
    "* Markdown\n",
    "* PDF\n",
    "* ReStructuredText\n",
    "* Executable script\n",
    "* Reveal.js slides\n",
    "\n",
    "## Markdown & LaTeX support\n",
    "Documentation can be inlined\n",
    "\n",
    "$\\LaTeX$ supported\n",
    "\n",
    "$$\n",
    "\\lim_{x\\to 0}{\\frac{e^x-1}{2x}}\n",
    "\\overset{\\left[\\frac{0}{0}\\right]}{\\underset{\\mathrm{H}}{=}}\n",
    "\\lim_{x\\to 0}{\\frac{e^x}{2}}={\\frac{1}{2}}\n",
    "$$\n",
    "\n",
    "$$\n",
    "A_{m,n} = \n",
    " \\begin{pmatrix}\n",
    "  a_{1,1} & a_{1,2} & \\cdots & a_{1,n} \\\\\n",
    "  a_{2,1} & a_{2,2} & \\cdots & a_{2,n} \\\\\n",
    "  \\vdots  & \\vdots  & \\ddots & \\vdots  \\\\\n",
    "  a_{m,1} & a_{m,2} & \\cdots & a_{m,n} \n",
    " \\end{pmatrix}\n",
    "$$"
   ]
  },
  {
   "cell_type": "markdown",
   "metadata": {},
   "source": [
    "Flavours:\n",
    "* Local installation (using anaconda)\n",
    "  * Jupyter notebook (old)\n",
    "    * similar functionality as jupyter lab, somewhat deprecated user interface\n",
    "  * Jupyter lab (new)\n",
    "    * file manager side panel\n",
    "    * supports multiple tabs to work on several files at once\n",
    "  * Jupyter hub (multi user server based on Jupyter notebook)\n",
    "    * multi user environment\n",
    "    * same problems as jupyter notebook\n",
    "  * Jupyter lab hub (multi user server based on Jupyter lab)\n",
    "    * multi user environment\n",
    "    * same advantages as jupyter hub\n",
    "\n",
    "* Notebook hosted on GitHub (or anywhere else on the internet)\n",
    "   * executed using binder (https://mybinder.org/):\n",
    "     * [Python](https://github.com/binder-examples/jupyterlab)\n",
    "     * [Octave](https://github.com/binder-examples/octave)\n",
    "     * [R](https://github.com/binder-examples/r)\n",
    "* Cloud hosted\n",
    "  * [Google Colaboratory](https://colab.research.google.com) (free)\n",
    "  * [Amazon SageMaker](https://aws.amazon.com/sagemaker/) (paied, free tier with reduced functionality)\n",
    "  * [Microsoft Azure Notebook](https://notebooks.azure.com/) (free)\n",
    "  * [Jupyo](https://jupyo.com/)  (paied)"
   ]
  },
  {
   "cell_type": "code",
   "execution_count": 1,
   "metadata": {},
   "outputs": [
    {
     "data": {
      "text/plain": [
       "<Figure size 2500x1500 with 2 Axes>"
      ]
     },
     "metadata": {},
     "output_type": "display_data"
    }
   ],
   "source": [
    "import cv2\n",
    "import numpy as np\n",
    "from matplotlib import pyplot as plt\n",
    "\n",
    "def show_image(img):\n",
    "    img = cv2.cvtColor(img, cv2.COLOR_BGR2RGB)\n",
    "    plt.imshow(img)\n",
    "    \n",
    "def load_image():\n",
    "    return cv2.imread(\"test.jpg\")\n",
    "\n",
    "def gaussian_blur(img, kernel_size):\n",
    "    \n",
    "    kernel = np.ones((kernel_size,kernel_size),np.float32)/kernel_size**2\n",
    "    dst = cv2.filter2D(img,-1,kernel)\n",
    "    \n",
    "    plt.figure(figsize = (25,15))\n",
    "    plt.subplot(121),show_image(img),plt.title('Original')\n",
    "    plt.xticks([]), plt.yticks([])\n",
    "    \n",
    "    plt.subplot(122),show_image(dst),plt.title('Averaging')\n",
    "    plt.xticks([]), plt.yticks([])\n",
    "    plt.show()\n",
    "\n",
    "img = load_image()\n",
    "gaussian_blur(img, 50)"
   ]
  },
  {
   "cell_type": "code",
   "execution_count": 2,
   "metadata": {},
   "outputs": [
    {
     "data": {
      "application/javascript": [
       "alert(self.document.body.innerHTML)\n"
      ],
      "text/plain": [
       "<IPython.core.display.Javascript object>"
      ]
     },
     "metadata": {},
     "output_type": "display_data"
    }
   ],
   "source": [
    "%%javascript\n",
    "alert(self.document.body.innerHTML)"
   ]
  }
 ],
 "metadata": {
  "kernelspec": {
   "display_name": "Python 3",
   "language": "python",
   "name": "python3"
  },
  "language_info": {
   "codemirror_mode": {
    "name": "ipython",
    "version": 3
   },
   "file_extension": ".py",
   "mimetype": "text/x-python",
   "name": "python",
   "nbconvert_exporter": "python",
   "pygments_lexer": "ipython3",
   "version": "3.6.8"
  }
 },
 "nbformat": 4,
 "nbformat_minor": 2
}
