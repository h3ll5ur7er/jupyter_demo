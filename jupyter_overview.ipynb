{
 "cells": [
  {
   "cell_type": "markdown",
   "metadata": {},
   "source": [
    "# Jupyter\n",
    "\n",
    "## Best with anaconda\n",
    "It is very easy to set up a jupyter(lab) environment using anaconda python and the conda package manager:\n",
    "\n",
    "```\n",
    "conda create -n jupyterlab_cv python=3.6\n",
    "conda install -y -n jupyterlab_cv numpy\n",
    "conda install -y -n jupyterlab_cv matplotlib\n",
    "conda install -y -n jupyterlab_cv -c conda-forge jupyterlab\n",
    "conda develop -n jupyterlab_cv cv2.cp36-win_amd64.pyd\n",
    "```\n",
    "those commands create a new conda environment, install project dependencies like numpy and matplotlib, install jupyter lab and include the pre built opencv package.\n",
    "\n",
    "To activate the environment and start the jupyter lab web service use\n",
    "```\n",
    "activate jupyterlab_cv\n",
    "jupyter lab\n",
    "```\n",
    "## Kernels for many languages\n",
    "A Jupyter Kernel is a program that handles all kinds of requests:\n",
    "* Code execution\n",
    "* Code completion\n",
    "* Inspection\n",
    "\n",
    "There are kernels for Python (2/3), R, Matlab and many more: \n",
    "https://github.com/jupyter/jupyter/wiki/Jupyter-kernels\n",
    "\n",
    "\n",
    "## Export in many formats\n",
    "* AsciiDoc\n",
    "* HTML\n",
    "* LaTeX\n",
    "* Markdown\n",
    "* PDF\n",
    "* ReStructuredText\n",
    "* Executable script\n",
    "* Reveal.js slides\n",
    "\n",
    "## Markdown & LaTeX support\n",
    "Documentation can be inlined\n",
    "\n",
    "$\\LaTeX$ supported\n",
    "\n",
    "$$\n",
    "\\lim_{x\\to 0}{\\frac{e^x-1}{2x}}\n",
    "\\overset{\\left[\\frac{0}{0}\\right]}{\\underset{\\mathrm{H}}{=}}\n",
    "\\lim_{x\\to 0}{\\frac{e^x}{2}}={\\frac{1}{2}}\n",
    "$$\n",
    "\n",
    "$$\n",
    "A_{m,n} = \n",
    " \\begin{pmatrix}\n",
    "  a_{1,1} & a_{1,2} & \\cdots & a_{1,n} \\\\\n",
    "  a_{2,1} & a_{2,2} & \\cdots & a_{2,n} \\\\\n",
    "  \\vdots  & \\vdots  & \\ddots & \\vdots  \\\\\n",
    "  a_{m,1} & a_{m,2} & \\cdots & a_{m,n} \n",
    " \\end{pmatrix}\n",
    "$$"
   ]
  },
  {
   "cell_type": "markdown",
   "metadata": {},
   "source": [
    "Flavours:\n",
    "* Local installation (using anaconda)\n",
    "  * Jupyter notebook (old)\n",
    "    * similar functionality as jupyter lab, somewhat deprecated user interface\n",
    "  * Jupyter lab (new)\n",
    "    * file manager side panel\n",
    "    * supports multiple tabs to work on several files at once\n",
    "  * Jupyter hub (multi user server based on Jupyter notebook)\n",
    "    * multi user environment\n",
    "    * same problems as jupyter notebook\n",
    "  * Jupyter lab hub (multi user server based on Jupyter lab)\n",
    "    * multi user environment\n",
    "    * same advantages as jupyter hub\n",
    "\n",
    "* Notebook hosted on GitHub (or anywhere else on the internet)\n",
    "   * executed using binder (https://mybinder.org/):\n",
    "     * [Python](https://github.com/binder-examples/jupyterlab)\n",
    "     * [Octave](https://github.com/binder-examples/octave)\n",
    "     * [R](https://github.com/binder-examples/r)\n",
    "* Cloud hosted\n",
    "  * [Google Colaboratory](https://colab.research.google.com) (free)\n",
    "  * [Amazon SageMaker](https://aws.amazon.com/sagemaker/) (paied, free tier with reduced functionality)\n",
    "  * [Microsoft Azure Notebook](https://notebooks.azure.com/) (free)\n",
    "  * [Jupyo](https://jupyo.com/)  (paied)\n",
    "  "
   ]
  },
  {
   "cell_type": "markdown",
   "metadata": {},
   "source": [
    "## Comparison\n",
    "\n",
    "Provider | Google Colaboratory | Azure Notebook | Jupyter Hub (@SCS)\n",
    "--- | --- | --- | --- \n",
    "UX | Easy to use UI, not very responsive, doesn't look like Jupyter (notebook of lab) | Standard Jupyter (notebook of lab) look and feel | Standard Jupyter (notebook of lab) look and feel \n",
    "Memory | 13 GB | 4 GB | Depends on underlying hardware \n",
    "Storage | A lot *1 | 20 GB | Depends on underlying hardware \n",
    "GPU Support | GPU/TPU 12 h free *2 | Comming soon | Depends on underlying hardware \n",
    "File IO | Easy file up/download *1 | File upload from Computer (10 MB max), from web (until storage is full)  | Depends on underlying hardware \n",
    "Data Location | Hosted by Google | Hosted by Microsoft | In house\n",
    "ActiveDirectory authentification | No | No | Yes \n",
    "\n",
    "*1 Data is stored in Google drive, docs, sheets or cloud\n",
    "\n",
    "*2 Colaboratory is intended for interactive use. Long-running background computations, particularly on GPUs, may be stopped."
   ]
  },
  {
   "cell_type": "code",
   "execution_count": null,
   "metadata": {},
   "outputs": [],
   "source": []
  },
  {
   "cell_type": "code",
   "execution_count": null,
   "metadata": {},
   "outputs": [],
   "source": []
  },
  {
   "cell_type": "code",
   "execution_count": 2,
   "metadata": {},
   "outputs": [
    {
     "name": "stdout",
     "output_type": "stream",
     "text": [
      "--Return--\n",
      "> <ipython-input-2-bb3237f5ee13>(2)<module>()->None\n",
      "-> set_trace()\n"
     ]
    },
    {
     "name": "stdin",
     "output_type": "stream",
     "text": [
      "(Pdb)  b 20\n"
     ]
    },
    {
     "name": "stdout",
     "output_type": "stream",
     "text": [
      "Breakpoint 3 at <ipython-input-2-bb3237f5ee13>:20\n"
     ]
    },
    {
     "name": "stdin",
     "output_type": "stream",
     "text": [
      "(Pdb)  c\n"
     ]
    },
    {
     "name": "stdout",
     "output_type": "stream",
     "text": [
      "> <ipython-input-2-bb3237f5ee13>(20)gaussian_blur()\n",
      "-> plt.subplot(121),show_image(img),plt.title('Original')\n"
     ]
    },
    {
     "name": "stdin",
     "output_type": "stream",
     "text": [
      "(Pdb)  dst\n"
     ]
    },
    {
     "name": "stdout",
     "output_type": "stream",
     "text": [
      "array([[[ 40,  40,  43],\n",
      "        [ 40,  40,  43],\n",
      "        [ 40,  40,  43],\n",
      "        ...,\n",
      "        [113, 114, 129],\n",
      "        [113, 114, 129],\n",
      "        [114, 114, 129]],\n",
      "\n",
      "       [[ 40,  40,  43],\n",
      "        [ 40,  40,  43],\n",
      "        [ 40,  40,  43],\n",
      "        ...,\n",
      "        [113, 114, 129],\n",
      "        [113, 114, 129],\n",
      "        [114, 114, 129]],\n",
      "\n",
      "       [[ 40,  40,  43],\n",
      "        [ 40,  40,  43],\n",
      "        [ 40,  40,  43],\n",
      "        ...,\n",
      "        [113, 114, 128],\n",
      "        [113, 114, 129],\n",
      "        [113, 114, 129]],\n",
      "\n",
      "       ...,\n",
      "\n",
      "       [[ 71,  76,  76],\n",
      "        [ 71,  76,  76],\n",
      "        [ 71,  76,  76],\n",
      "        ...,\n",
      "        [229, 234, 235],\n",
      "        [229, 234, 235],\n",
      "        [229, 234, 235]],\n",
      "\n",
      "       [[ 72,  77,  77],\n",
      "        [ 72,  77,  77],\n",
      "        [ 72,  77,  77],\n",
      "        ...,\n",
      "        [229, 234, 235],\n",
      "        [229, 234, 235],\n",
      "        [229, 234, 235]],\n",
      "\n",
      "       [[ 72,  77,  77],\n",
      "        [ 72,  77,  77],\n",
      "        [ 72,  77,  77],\n",
      "        ...,\n",
      "        [229, 234, 235],\n",
      "        [229, 234, 235],\n",
      "        [229, 234, 235]]], dtype=uint8)\n"
     ]
    },
    {
     "name": "stdin",
     "output_type": "stream",
     "text": [
      "(Pdb)  c\n"
     ]
    },
    {
     "data": {
      "text/plain": [
       "<Figure size 640x480 with 2 Axes>"
      ]
     },
     "metadata": {},
     "output_type": "display_data"
    }
   ],
   "source": [
    "from pdb import set_trace\n",
    "set_trace()\n",
    "\n",
    "import cv2\n",
    "import numpy as np\n",
    "from matplotlib import pyplot as plt\n",
    "\n",
    "def show_image(img):\n",
    "    img = cv2.cvtColor(img, cv2.COLOR_BGR2RGB)\n",
    "    plt.imshow(img)\n",
    "    \n",
    "def load_image():\n",
    "    return cv2.imread(\"test.jpg\")\n",
    "\n",
    "def gaussian_blur(img, kernel_size):\n",
    "    \n",
    "    kernel = np.ones((kernel_size,kernel_size),np.float32)/kernel_size**2\n",
    "    dst = cv2.filter2D(img,-1,kernel)\n",
    "    \n",
    "    plt.subplot(121),show_image(img),plt.title('Original')\n",
    "    plt.xticks([]), plt.yticks([])\n",
    "    \n",
    "    plt.subplot(122),show_image(dst),plt.title('Averaging')\n",
    "    plt.xticks([]), plt.yticks([])\n",
    "    plt.show()\n",
    "\n",
    "img = load_image()\n",
    "gaussian_blur(img, 50)"
   ]
  },
  {
   "cell_type": "code",
   "execution_count": null,
   "metadata": {},
   "outputs": [],
   "source": []
  }
 ],
 "metadata": {
  "kernelspec": {
   "display_name": "Python 3",
   "language": "python",
   "name": "python3"
  },
  "language_info": {
   "codemirror_mode": {
    "name": "ipython",
    "version": 3
   },
   "file_extension": ".py",
   "mimetype": "text/x-python",
   "name": "python",
   "nbconvert_exporter": "python",
   "pygments_lexer": "ipython3",
   "version": "3.6.8"
  }
 },
 "nbformat": 4,
 "nbformat_minor": 2
}
